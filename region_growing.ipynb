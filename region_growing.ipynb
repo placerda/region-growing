{
  "nbformat": 4,
  "nbformat_minor": 0,
  "metadata": {
    "colab": {
      "name": "region_growing.ipynb",
      "provenance": [],
      "collapsed_sections": [],
      "include_colab_link": true
    },
    "kernelspec": {
      "name": "python3",
      "language": "python",
      "display_name": "Python 3"
    },
    "accelerator": "GPU",
    "pycharm": {
      "stem_cell": {
        "cell_type": "raw",
        "source": [],
        "metadata": {
          "collapsed": false
        }
      }
    }
  },
  "cells": [
    {
      "cell_type": "markdown",
      "metadata": {
        "id": "view-in-github",
        "colab_type": "text"
      },
      "source": [
        "<a href=\"https://colab.research.google.com/github/placerda/region-growing/blob/master/region_growing.ipynb\" target=\"_parent\"><img src=\"https://colab.research.google.com/assets/colab-badge.svg\" alt=\"Open In Colab\"/></a>"
      ]
    },
    {
      "cell_type": "markdown",
      "metadata": {
        "id": "1XrALrC2Q-yM",
        "colab_type": "text"
      },
      "source": [
        "## Part 1: Configuration\n",
        "\n",
        "Importlibraries and configure execution parameters.\n",
        "\n",
        "**Parameters**\n",
        "\n",
        "```\n",
        "DICOM_FOLDER = directory with DICOM files\n",
        "RESULT_FOLDER = directory where the segmentation result will be generated\n",
        "FIRST_SLICE: z's axis ROI first slice.\n",
        "LAST_SLICE: z's axis ROI last slice.\n",
        "MAX_DEPTH: last slice of the range used to normalize weight feature.\n",
        "SEEDS = list of seeds inserted manually, example: [[183, 231, 310]]. [[z, y, x]]\n",
        "```\n"
      ]
    },
    {
      "cell_type": "code",
      "metadata": {
        "id": "hXM59rhvP4HJ",
        "colab_type": "code",
        "outputId": "8db462c7-d709-4b5d-facf-9be6068be23e",
        "colab": {
          "base_uri": "https://localhost:8080/",
          "height": 34
        }
      },
      "source": [
        "from google.colab import drive\n",
        "drive.mount('/content/gdrive')"
      ],
      "execution_count": 3,
      "outputs": [
        {
          "output_type": "stream",
          "text": [
            "Drive already mounted at /content/gdrive; to attempt to forcibly remount, call drive.mount(\"/content/gdrive\", force_remount=True).\n"
          ],
          "name": "stdout"
        }
      ]
    },
    {
      "cell_type": "code",
      "metadata": {
        "id": "TNxLIirGmisv",
        "colab_type": "code",
        "outputId": "a8801efd-37a2-47db-af7f-e63204e73ffd",
        "colab": {
          "base_uri": "https://localhost:8080/",
          "height": 170
        }
      },
      "source": [
        "!pip install pycuda pydicom\n",
        "!apt-get -qq install -y libsm6 libxext6 && pip install -q -U opencv-python\n",
        "\n",
        "# if necessary include custom python modules use the excerpt below\n",
        "# import sys \n",
        "# sys.path.append('folder_name')\n",
        "\n",
        "import numpy as np\n",
        "import pydicom\n",
        "import os\n",
        "import pycuda.autoinit \n",
        "from pycuda import gpuarray\n",
        "from pycuda.compiler import SourceModule\n",
        "import cv2\n"
      ],
      "execution_count": 4,
      "outputs": [
        {
          "output_type": "stream",
          "text": [
            "Requirement already satisfied: pycuda in /usr/local/lib/python3.6/dist-packages (2019.1.2)\n",
            "Requirement already satisfied: pydicom in /usr/local/lib/python3.6/dist-packages (1.4.1)\n",
            "Requirement already satisfied: decorator>=3.2.0 in /usr/local/lib/python3.6/dist-packages (from pycuda) (4.4.1)\n",
            "Requirement already satisfied: appdirs>=1.4.0 in /usr/local/lib/python3.6/dist-packages (from pycuda) (1.4.3)\n",
            "Requirement already satisfied: pytools>=2011.2 in /usr/local/lib/python3.6/dist-packages (from pycuda) (2020.1)\n",
            "Requirement already satisfied: mako in /usr/local/lib/python3.6/dist-packages (from pycuda) (1.1.1)\n",
            "Requirement already satisfied: numpy>=1.6.0 in /usr/local/lib/python3.6/dist-packages (from pytools>=2011.2->pycuda) (1.17.5)\n",
            "Requirement already satisfied: six>=1.8.0 in /usr/local/lib/python3.6/dist-packages (from pytools>=2011.2->pycuda) (1.12.0)\n",
            "Requirement already satisfied: MarkupSafe>=0.9.2 in /usr/local/lib/python3.6/dist-packages (from mako->pycuda) (1.1.1)\n"
          ],
          "name": "stdout"
        }
      ]
    },
    {
      "cell_type": "code",
      "metadata": {
        "id": "xjGTghdfQ5q_",
        "colab_type": "code",
        "colab": {}
      },
      "source": [
        "# execution parameters\n",
        "FIRST_SLICE = 90\n",
        "LAST_SLICE = 159\n",
        "MAX_DEPTH = 300\n",
        "WIDTH = 512\n",
        "HEIGHT = 512\n",
        "SEEDS = [[151, 220, 218]] # [z, y, x]\n",
        "\n",
        "DICOM_FOLDER = '/content/gdrive/My Drive/uff/region_growing/dataset/Imacx01_Animal1/dicom'\n",
        "RESULT_FOLDER = '/content/gdrive/My Drive/uff/region_growing/results/Imacx01_Animal1/segmentation'\n",
        "\n",
        "# adjust seeds z index based on first slice\n",
        "seeds = list(map(lambda x: [x[0]-FIRST_SLICE, x[1], x[2]], SEEDS))"
      ],
      "execution_count": 0,
      "outputs": []
    },
    {
      "cell_type": "markdown",
      "metadata": {
        "id": "TuW33IGLRMV5",
        "colab_type": "text"
      },
      "source": [
        "## Part 2: Image Acquisition\n",
        "\n",
        "Loads the dicom image data into the main memory and copies it into the device's memory."
      ]
    },
    {
      "cell_type": "code",
      "metadata": {
        "id": "1G2CtyGuQFzK",
        "colab_type": "code",
        "outputId": "16db10fc-3631-4ea0-b0aa-f8d9cb44da06",
        "colab": {
          "base_uri": "https://localhost:8080/",
          "height": 119
        }
      },
      "source": [
        "files = os.listdir(DICOM_FOLDER)\n",
        "files.sort()\n",
        "\n",
        "last_slice = len(files) if len(files) < LAST_SLICE else LAST_SLICE\n",
        "num_slices = (last_slice - FIRST_SLICE) + 1\n",
        " \n",
        "h_image_data = np.zeros((num_slices, HEIGHT, WIDTH), dtype='int32')\n",
        "print ('loading slices {} to {}.\\n'.format(FIRST_SLICE, last_slice))\n",
        "\n",
        "for idx, file in enumerate(files):\n",
        "    # load dicom slices\n",
        "    if (idx+1 >= FIRST_SLICE) and (idx < last_slice):\n",
        "        filename = \"{}/{}\".format(DICOM_FOLDER, os.fsdecode(file))\n",
        "        slice_index = idx + 1 - FIRST_SLICE\n",
        "\n",
        "        ds = pydicom.dcmread(filename)\n",
        "        b = ds.RescaleIntercept\n",
        "        m = ds.RescaleSlope\n",
        "        slice = m * ds.pixel_array + b\n",
        "        slice = np.int32(slice)\n",
        "        h_image_data[slice_index] = slice\n",
        "\n",
        "        print('.', end='')\n",
        "\n",
        "        if ((slice_index+1) % 100 == 0): print('') \n",
        "        \n",
        "print ('\\nfinished copying slices to main memory.')\n",
        "\n",
        "d_image_data = gpuarray.to_gpu(h_image_data)\n",
        "print ('\\nfinished copying slices to global memory.')"
      ],
      "execution_count": 6,
      "outputs": [
        {
          "output_type": "stream",
          "text": [
            "loading slices 90 to 159.\n",
            "\n",
            "......................................................................\n",
            "finished copying slices to main memory.\n",
            "\n",
            "finished copying slices to global memory.\n"
          ],
          "name": "stdout"
        }
      ]
    },
    {
      "cell_type": "markdown",
      "metadata": {
        "id": "Y0CcQdTESQWC",
        "colab_type": "text"
      },
      "source": [
        "## Part 3: 3D Region Growing\n",
        "\n",
        "Run the region growing loop until there are no more voxels to be included.\n",
        "\n",
        "CUDA C Parameters:\n",
        "```\n",
        "_THRESHOLD: threshold to add neighbor to segmented region.\n",
        "_FIRST_SLICE: z's axis ROI first slice.\n",
        "_DEPTH_WEIGHT: depth's feature weight.\n",
        "_MIN_DEPTH: first slice of the range used to normalize weight feature.\n",
        "_MAX_DEPTH: last slice of the range used to normalize weight feature.\n",
        "```"
      ]
    },
    {
      "cell_type": "code",
      "metadata": {
        "id": "MhUoa9_kSdXT",
        "colab_type": "code",
        "outputId": "2f6dc39b-bf23-422e-a104-492a92ac83e0",
        "colab": {
          "base_uri": "https://localhost:8080/",
          "height": 51
        }
      },
      "source": [
        "h_seed_data = np.array(seeds, dtype='int32')\n",
        "\n",
        "# initial region\n",
        "h_region_data = np.zeros((num_slices, HEIGHT, WIDTH), dtype='int32')\n",
        "\n",
        "for idx, seed in enumerate(h_seed_data):    \n",
        "    # initialize region data with seeds, each element value is its seed number\n",
        "    h_region_data[seed[0], seed[1], seed[2]] = idx+1\n",
        "\n",
        "d_region_data = gpuarray.to_gpu(h_region_data)\n",
        "d_seed_data = gpuarray.to_gpu(h_seed_data)\n",
        "\n",
        "\n",
        "ker = SourceModule(\"\"\"\n",
        "\n",
        "#define _THRESHOLD 0.3\n",
        "#define _DEPTH_WEIGHT 2.0\n",
        "#define _FIRST_SLICE 90\n",
        "\n",
        "//TODO: in the future calculate depth's range based on the slices with body part\n",
        "#define _MIN_DEPTH 1\n",
        "#define _MAX_DEPTH 300\n",
        "#define _NUM_FEATURES 5\n",
        "#define _WIDTH  512\n",
        "#define _HEIGHT 512\n",
        "#define _MIN_HU -1024\n",
        "#define _MAX_HU 1024\n",
        "\n",
        "#define _DEPTH  ( gridDim.z )\n",
        "#define _X  ( threadIdx.x + blockIdx.x * blockDim.x )\n",
        "#define _Y  ( threadIdx.y + blockIdx.y * blockDim.y )\n",
        "#define _Z  ( threadIdx.z + blockIdx.z * blockDim.z )\n",
        "\n",
        "\n",
        "\n",
        "__device__ int get_index(int x, int y, int z){\n",
        "  // before calling this function test if coords are inside image boundaries\n",
        "  return x  + y * _WIDTH + z * _WIDTH * _HEIGHT;\n",
        "}\n",
        "\n",
        "\n",
        "__device__ int get_neighbor_seed(int x, int y, int z, int *in)\n",
        "// check if voxel is a region neighbor returning the neightbor's seed number\n",
        "{\n",
        "    int idx = get_index(x,y,z);\n",
        "    for (int k = z-1; k <= z + 1; k++){\n",
        "        for (int j = y-1; j <= y + 1; j++){\n",
        "            for (int i = x-1; i <= x + 1; i++){\n",
        "                // test if coords are inside image boundaries\n",
        "                if (((k > 0) && (k < _DEPTH)) && ((j > 0) && (j < _HEIGHT)) && ((i > 0) && (i < _WIDTH))){\n",
        "                    int idx_neighbor = get_index(i, j, k);\n",
        "                    if (idx_neighbor != idx)\n",
        "                        if (in[idx_neighbor] > 0) \n",
        "                            // if the neighbor is in the region \n",
        "                            // then returns its seed number\n",
        "                            return in[idx_neighbor];\n",
        "                }\n",
        "            }\n",
        "        }\n",
        "    }  \n",
        "    return 0;\n",
        "}\n",
        "\n",
        "\n",
        "__device__ float normalizeHU(int hu){\n",
        "  // normalizes HU between _MIN_HU and _MAX_HU\n",
        "  if (hu < _MIN_HU) \n",
        "    hu = _MIN_HU;\n",
        "  else if (hu > _MAX_HU){\n",
        "    hu = _MAX_HU;\n",
        "  } \n",
        "  return ((float)abs(hu-_MIN_HU))/abs(_MAX_HU-_MIN_HU);\n",
        "}\n",
        "\n",
        "\n",
        "__device__ int calculate_features(int x, int y, int z, int *image, float *vector){  \n",
        "  // calculates features vector (HU, MEAN, MIN, MAX)\n",
        "  vector[0] = normalizeHU(image[get_index(x, y, z)]); \n",
        "  vector[1] = 0; // MEAN\n",
        "  vector[2] = 0; // MIN\n",
        "  vector[3] = 0; // MAX\n",
        "  vector[4] = ((z * _DEPTH_WEIGHT * 1.0f) + _FIRST_SLICE)/ (_MAX_DEPTH - _MIN_DEPTH); // DEPTH\n",
        "\n",
        "  float min  = 1;\n",
        "  float max  = 0;\n",
        "  float sum  = 0;\n",
        "  float qtde = 0;\n",
        "  \n",
        "  // calculates: mean, min and max\n",
        "  for (int k = z-1; k <= z+1; k++){\n",
        "    for (int j = y-1; j <= y+1; j++){\n",
        "      for (int i = x-1; i <= x+1; i++){\n",
        "          if (((k > 0) && (k < _DEPTH)) && ((j > 0) && (j < _HEIGHT)) && ((i > 0) && (i < _WIDTH))){\n",
        "            float hu = normalizeHU(image[get_index(i, j, k)]);\n",
        "            sum+=hu;\n",
        "            if (hu < min) min = hu;\n",
        "            if (hu > max) max = hu;\n",
        "            qtde++;\n",
        "          }\n",
        "      }\n",
        "    }\n",
        "  }\n",
        "\n",
        "  vector[1] = (sum/qtde); // MEAN\n",
        "  vector[2] = min; // MIN\n",
        "  vector[3] = max; // MAX  \n",
        "  return 0;\n",
        "}\n",
        "\n",
        "\n",
        "__device__ float euclidean_distance(float *vector1, float *vector2){\n",
        "  float sum = 0;\n",
        "  for (int i = 0; i < _NUM_FEATURES; i++){\n",
        "    sum += pow((vector1[i] - vector2[i]), 2);\n",
        "  }\n",
        "  return (float)sqrt(sum);\n",
        "}\n",
        "\n",
        "\n",
        "__global__ void region_growing(int *image, int *region, int *seeds, int *elements_added, float *debug)\n",
        "// kernel\n",
        "{\n",
        "\n",
        "   int x = _X, y = _Y, z = _Z;\n",
        "   if ((x < _WIDTH) && (y < _HEIGHT) && (z < _DEPTH)){\n",
        "    int idx = get_index(x,y,z);\n",
        "    if (region[idx] == 0) {  \n",
        "         //element isn't inside the region\n",
        "         int neighbor_seed = get_neighbor_seed(x, y, z, region);\n",
        "         if (neighbor_seed > 0){\n",
        "             \n",
        "            // get seed coordinates and calculates its feature vector\n",
        "            int coord_offset = 3; \n",
        "            int idx_seed = neighbor_seed - 1;\n",
        "            int seed_z = seeds[0+(idx_seed * coord_offset)];\n",
        "            int seed_y = seeds[1+(idx_seed * coord_offset)];\n",
        "            int seed_x = seeds[2+(idx_seed * coord_offset)];\n",
        "            float vector1[_NUM_FEATURES];\n",
        "            calculate_features(seed_x, seed_y, seed_z, image, vector1);\n",
        "\n",
        "            // calculates element's feature vector\n",
        "            float vector2[_NUM_FEATURES];\n",
        "            calculate_features(x, y, z, image, vector2);\n",
        "\n",
        "            // calculates distance\n",
        "            float distance = euclidean_distance(vector1, vector2);\n",
        "\n",
        "            // DEBUG\n",
        "            //if ((x == 310) && (y == 231) && (z == 182)){\n",
        "            //debug[0] =  (z  * 1.0f) / (_MAX_DEPTH - _FIRST_SLICE);\n",
        "            //}\n",
        "            // distance = 10;\n",
        "            // DEBUG\n",
        "\n",
        "            if (distance < _THRESHOLD){\n",
        "                region[idx] = neighbor_seed;\n",
        "                elements_added[0] += 1;\n",
        "            }\n",
        "\n",
        "         }\n",
        "    }\n",
        "\n",
        "   }\n",
        "\n",
        "}\n",
        "\"\"\")\n",
        "\n",
        "region_growing = ker.get_function(\"region_growing\")\n",
        "\n",
        "included = True\n",
        "loop_counter = 0\n",
        "while (included):\n",
        "    h_elements_added = np.zeros((1), dtype='int32')\n",
        "    d_elements_added = gpuarray.to_gpu(h_elements_added)\n",
        "    h_debug = np.zeros((1), dtype='float32')    \n",
        "    d_debug = gpuarray.to_gpu(h_debug)\n",
        "\n",
        "    region_growing(d_image_data, d_region_data, d_seed_data, d_elements_added, \n",
        "                   d_debug, grid=(16, 16, num_slices), block=(32,32,1))\n",
        "    pycuda.autoinit.context.synchronize()\n",
        "    \n",
        "    h_elements_added = d_elements_added.get()\n",
        "    included = (h_elements_added[0] > 0)\n",
        "\n",
        "    # used for debug purposes only\n",
        "    # h_debug = d_debug.get()    \n",
        "    # print ('debug={}'.format(h_debug[0]))\n",
        "        \n",
        "    print('.', end='')\n",
        "    loop_counter += 1\n",
        "    if (loop_counter % 100 == 0): print('')\n",
        "\n",
        "\n",
        "h_segmented_data= d_region_data.get()\n",
        "h_segmented_data[h_segmented_data>0] = 1\n",
        "print('\\nsegmented region volume: {}'.format(np.sum(h_segmented_data)))\n",
        "\n",
        "os.makedirs(RESULT_FOLDER, exist_ok=True)\n",
        "np.save('{}/segmented_data.npy'.format(RESULT_FOLDER), h_segmented_data)"
      ],
      "execution_count": 7,
      "outputs": [
        {
          "output_type": "stream",
          "text": [
            "...........................................................................\n",
            "segmented region volume: 117468\n"
          ],
          "name": "stdout"
        }
      ]
    },
    {
      "cell_type": "markdown",
      "metadata": {
        "id": "JokeaM7ySdih",
        "colab_type": "text"
      },
      "source": [
        "## Part 4: Writes segmented region image to disk\n",
        "\n",
        "Post-processing, generating images with the segmented region highlighted, saving the result on disk."
      ]
    },
    {
      "cell_type": "code",
      "metadata": {
        "id": "EghuWyXWQSpb",
        "colab_type": "code",
        "outputId": "b9b0f34a-8a88-414f-a346-7efc92ce778b",
        "colab": {
          "base_uri": "https://localhost:8080/",
          "height": 85
        }
      },
      "source": [
        "# window configuration to do 256 grayscale quantization\n",
        "WINDOW_LENGHT=-100\n",
        "WINDOW_WIDTH=1220\n",
        "MIN_HU=-1024\n",
        "MAX_HU=1024\n",
        "\n",
        "for idx, slice in enumerate(h_image_data):\n",
        "\n",
        "        slice_number = str(idx+FIRST_SLICE).zfill(4)\n",
        "\n",
        "        print ('{} '.format(slice_number), end='')\n",
        "        if ((idx+1) % 20 == 0): print ('')\n",
        "        \n",
        "        # grayscale quantization\n",
        "        min_value = WINDOW_LENGHT - (WINDOW_WIDTH // 2)\n",
        "        if min_value < MIN_HU: min_value = MIN_HU\n",
        "        max_value = WINDOW_LENGHT + (WINDOW_WIDTH // 2)\n",
        "        if max_value > MAX_HU: max_value = MAX_HU\n",
        "        quantized = slice.copy()\n",
        "        quantized = np.clip(quantized, min_value, max_value)\n",
        "        for cell in np.nditer(quantized, op_flags=['readwrite']):\n",
        "            cell[...] = ((cell - min_value) * 255) // (max_value - min_value)\n",
        "        gray = quantized.astype('uint8')\n",
        "\n",
        "        # adds segmented data overlay\n",
        "        mask = h_segmented_data[idx]\n",
        "        alpha = 0.6\n",
        "        masked_image = np.dstack((gray, gray, gray))\n",
        "        overlay = masked_image.copy()\n",
        "        overlay[mask > 0] =  (0,255,0)\n",
        "        cv2.addWeighted(overlay, alpha, masked_image, 1 - alpha, 0, masked_image)\n",
        "\n",
        "        region_area = np.sum(mask)\n",
        "\n",
        "        # adds area and number info over image\n",
        "        cv2.putText(masked_image, \"region area={}\".format(region_area), (10, 30), cv2.FONT_HERSHEY_DUPLEX, 0.6, (255, 255, 255), lineType=cv2.LINE_AA)\n",
        "        cv2.putText(masked_image, \"{}\".format(slice_number), (225, 30), cv2.FONT_HERSHEY_DUPLEX, 0.6, (255, 255, 255), lineType=cv2.LINE_AA)\n",
        "\n",
        "        output_filepath = \"{}/{}-auto.jpg\".format(RESULT_FOLDER, slice_number)\n",
        "        cv2.imwrite(output_filepath, masked_image)"
      ],
      "execution_count": 8,
      "outputs": [
        {
          "output_type": "stream",
          "text": [
            "0090 0091 0092 0093 0094 0095 0096 0097 0098 0099 0100 0101 0102 0103 0104 0105 0106 0107 0108 0109 \n",
            "0110 0111 0112 0113 0114 0115 0116 0117 0118 0119 0120 0121 0122 0123 0124 0125 0126 0127 0128 0129 \n",
            "0130 0131 0132 0133 0134 0135 0136 0137 0138 0139 0140 0141 0142 0143 0144 0145 0146 0147 0148 0149 \n",
            "0150 0151 0152 0153 0154 0155 0156 0157 0158 0159 "
          ],
          "name": "stdout"
        }
      ]
    },
    {
      "cell_type": "markdown",
      "metadata": {
        "id": "PQ1N9pN0Sl6K",
        "colab_type": "text"
      },
      "source": [
        "Done!"
      ]
    }
  ]
}